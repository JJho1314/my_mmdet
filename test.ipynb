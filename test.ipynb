{
 "cells": [
  {
   "cell_type": "code",
   "execution_count": 14,
   "metadata": {},
   "outputs": [
    {
     "name": "stdout",
     "output_type": "stream",
     "text": [
      "torch.Size([1, 256, 16, 16])\n",
      "torch.Size([1, 512, 8, 8])\n",
      "torch.Size([1, 1024, 4, 4])\n",
      "torch.Size([1, 2048, 2, 2])\n",
      "torch.Size([1, 256, 16, 16])\n",
      "torch.Size([1, 512, 8, 8])\n",
      "torch.Size([1, 1024, 4, 4])\n",
      "torch.Size([1, 2048, 2, 2])\n"
     ]
    }
   ],
   "source": [
    "import numpy as np\n",
    "import torch\n",
    "from mmdet.models import ResNet\n",
    "from mmdet.models import Resnet50\n",
    "\n",
    "x = torch.randn(1,3,64,64)\n",
    "model = ResNet(\n",
    "        depth=50,\n",
    "        num_stages=4,\n",
    "        out_indices=(0, 1, 2, 3),\n",
    "        frozen_stages=4,\n",
    "        norm_cfg=dict(type='BN', requires_grad=True),\n",
    "        norm_eval=True,\n",
    "        style='pytorch',\n",
    "        init_cfg=dict(type='Pretrained', checkpoint='torchvision://resnet50'))\n",
    "\n",
    "# model = Resnet50(\"RN50\",device=\"cuda\")\n",
    "\n",
    "outputs = model(x)\n",
    "for out in outputs:\n",
    "    print(out.shape)\n",
    "#torch.Size([1, 256, 16, 16])\n",
    "#torch.Size([1, 512, 8, 8])\n",
    "#torch.Size([1, 1024, 4, 4])\n",
    "#torch.Size([1, 2048, 2, 2])\n"
   ]
  }
 ],
 "metadata": {
  "kernelspec": {
   "display_name": "Python 3.8.16 ('clip')",
   "language": "python",
   "name": "python3"
  },
  "language_info": {
   "codemirror_mode": {
    "name": "ipython",
    "version": 3
   },
   "file_extension": ".py",
   "mimetype": "text/x-python",
   "name": "python",
   "nbconvert_exporter": "python",
   "pygments_lexer": "ipython3",
   "version": "3.8.16"
  },
  "orig_nbformat": 4,
  "vscode": {
   "interpreter": {
    "hash": "397cfcd83ac667530ead75001a96546be0abf0f65e3ba3bd861e9d007590448d"
   }
  }
 },
 "nbformat": 4,
 "nbformat_minor": 2
}
